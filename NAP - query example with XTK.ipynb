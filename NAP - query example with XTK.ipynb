{
 "metadata": {
  "name": "NAP - query example with XTK"
 },
 "nbformat": 3,
 "nbformat_minor": 0,
 "worksheets": [
  {
   "cells": [
    {
     "cell_type": "code",
     "collapsed": false,
     "input": [
      "from nap import Query\n",
      "reload(Query)\n",
      "abideEP = Query.Query('http://computor.mit.edu:8890/sparql')"
     ],
     "language": "python",
     "metadata": {},
     "outputs": [
      {
       "output_type": "stream",
       "stream": "stdout",
       "text": [
        "Initialized as http://computor.mit.edu:8890/sparql resource\n"
       ]
      }
     ],
     "prompt_number": 43
    },
    {
     "cell_type": "code",
     "collapsed": false,
     "input": [
      "fileURIs = abideEP.getXTKViewForSubject('0010001')\n",
      "_uri = fileURIs[0]['file']['value']\n",
      "fileLocation = abideEP.getFileURLforFile(_uri)\n",
      "print fileLocation"
     ],
     "language": "python",
     "metadata": {},
     "outputs": [
      {
       "output_type": "stream",
       "stream": "stdout",
       "text": [
        "{u'md5sum': u'e9c9d25248bfb0c0de36e7ca41a0e381', u'uri': u'http://computor.mit.edu:10101/files/5aab0231bcb86213c5d3ba40260c11f5'}\n"
       ]
      }
     ],
     "prompt_number": 51
    },
    {
     "cell_type": "code",
     "collapsed": false,
     "input": [],
     "language": "python",
     "metadata": {},
     "outputs": []
    },
    {
     "cell_type": "code",
     "collapsed": false,
     "input": [],
     "language": "python",
     "metadata": {},
     "outputs": []
    }
   ],
   "metadata": {}
  }
 ]
}