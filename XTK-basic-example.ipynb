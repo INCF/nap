{
 "metadata": {
  "name": "XTK-basic-example"
 },
 "nbformat": 3,
 "nbformat_minor": 0,
 "worksheets": [
  {
   "cells": [
    {
     "cell_type": "code",
     "collapsed": false,
     "input": [
      "# loading from a remote location\n",
      "from IPython.display import Javascript, display\n",
      "js = \"\"\"\n",
      "\n",
      "container.show();\n",
      "console.log(element);\n",
      "var xtkdiv = $('<div/>');\n",
      "xtkdiv.css('background-color','#000').width(400).height(300);\n",
      "xtkdiv.attr('id', 'test');\n",
      "element.append(xtkdiv);\n",
      "\n",
      "var r = new X.renderer3D();\n",
      "r.container = \"test\";\n",
      "r.init();\n",
      "\n",
      "var m = new X.mesh();\n",
      "m.magicmode = true;\n",
      "m.opacity = 0.50000;\n",
      "m.color = [1.0, 1.0, 0.0];\n",
      "m.file = \"http://x.babymri.org/?skull.vtk\";\n",
      "\n",
      "r.add(m);\n",
      "r.render();\n",
      "\n",
      "\"\"\"\n",
      "display(Javascript(js, lib='http://get.goXTK.com/xtk_edge.js'))"
     ],
     "language": "python",
     "metadata": {},
     "outputs": [
      {
       "javascript": [
        "$.getScript(\"http://get.goXTK.com/xtk_edge.js\", function () {\n",
        "\n",
        "\n",
        "container.show();\n",
        "console.log(element);\n",
        "var xtkdiv = $('<div/>');\n",
        "xtkdiv.css('background-color','#000').width(400).height(300);\n",
        "xtkdiv.attr('id', 'test');\n",
        "element.append(xtkdiv);\n",
        "\n",
        "var r = new X.renderer3D();\n",
        "r.container = \"test\";\n",
        "r.init();\n",
        "\n",
        "var m = new X.mesh();\n",
        "m.magicmode = true;\n",
        "m.opacity = 0.50000;\n",
        "m.color = [1.0, 1.0, 0.0];\n",
        "m.file = \"http://x.babymri.org/?skull.vtk\";\n",
        "\n",
        "r.add(m);\n",
        "r.render();\n",
        "\n",
        "});\n"
       ],
       "output_type": "display_data",
       "text": [
        "<IPython.core.display.Javascript at 0x11013ca10>"
       ]
      }
     ],
     "prompt_number": 1
    },
    {
     "cell_type": "code",
     "collapsed": false,
     "input": [],
     "language": "python",
     "metadata": {},
     "outputs": []
    }
   ],
   "metadata": {}
  }
 ]
}