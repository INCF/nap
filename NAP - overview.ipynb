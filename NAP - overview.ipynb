{
 "metadata": {
  "name": "NAP - overview"
 },
 "nbformat": 3,
 "nbformat_minor": 0,
 "worksheets": [
  {
   "cells": [
    {
     "cell_type": "markdown",
     "metadata": {},
     "source": [
      "# NDAR demo ported to iPython notebook + Nitrc-CE\n",
      "\n",
      "    NDAR query \n",
      "    NDAR filter \n",
      "    NDAR descriptive stats\n",
      "    NDAR run R script\n",
      "    NDAR run postprocess\n",
      "    NDAR run pipeline\n",
      "    NDAR view surface\n",
      "\n",
      "    "
     ]
    },
    {
     "cell_type": "code",
     "collapsed": false,
     "input": [],
     "language": "python",
     "metadata": {},
     "outputs": []
    }
   ],
   "metadata": {}
  }
 ]
}