{
 "metadata": {
  "name": "SWN - Select terms via js client"
 },
 "nbformat": 3,
 "nbformat_minor": 0,
 "worksheets": [
  {
   "cells": [
    {
     "cell_type": "markdown",
     "metadata": {},
     "source": [
      "### Selecting terms via js client\n",
      "\n",
      "We are using a clone of the ADHD200 dataset, exposed via a sparql endpoint with an accompanying file server"
     ]
    },
    {
     "cell_type": "code",
     "collapsed": false,
     "input": [
      "from nap import Query\n",
      "from nap import JSUTIL\n",
      "from IPython.core.display import HTML\n",
      "from IPython.display import Javascript, display\n",
      "\n",
      "reload(Query)\n",
      "reload(JSUTIL)\n",
      "adhd200endpoint = Query.Query('http://computor.mit.edu:8890/sparql')\n",
      "\n",
      "util = JSUTIL.jsutils()\n"
     ],
     "language": "python",
     "metadata": {},
     "outputs": [
      {
       "output_type": "stream",
       "stream": "stdout",
       "text": [
        "Initialized as http://computor.mit.edu:8890/sparql resource\n"
       ]
      }
     ],
     "prompt_number": 239
    },
    {
     "cell_type": "markdown",
     "metadata": {},
     "source": [
      "From the endpoint, get a list of concept and predicate types to generate a query from"
     ]
    },
    {
     "cell_type": "code",
     "collapsed": false,
     "input": [
      "availableConcepts = adhd200endpoint.listTypesInGraph()\n",
      "availablePredicates = adhd200endpoint.listPredicatesInGraph()"
     ],
     "language": "python",
     "metadata": {},
     "outputs": [],
     "prompt_number": 187
    },
    {
     "cell_type": "markdown",
     "metadata": {},
     "source": [
      "Prepopulate input fields with terms to enable selection"
     ]
    },
    {
     "cell_type": "code",
     "collapsed": false,
     "input": [
      "selected_concepts = []\n",
      "display(Javascript(util.getJSforConcepts(availableConcepts)))\n",
      "display(Javascript(util.getJScallback('selected_concepts', 'Concepts')))"
     ],
     "language": "python",
     "metadata": {},
     "outputs": [
      {
       "javascript": [
        "\n",
        "                container.show();\n",
        "                var kernel = IPython.notebook.kernel;\n",
        "                var otherstring = $(\"<div><h2>Concepts</h2><select size=10 style='width:400px;' id='Concepts' multiple='multiple'><option value='AnnotationFile'>AnnotationFile</option><option value='AnnotationFileTimeStamp'>AnnotationFileTimeStamp</option><option value='BrainMaskFile'>BrainMaskFile</option><option value='BrainMaskFileTimeStamp'>BrainMaskFileTimeStamp</option><option value='BrainMaskNVox'>BrainMaskNVox</option><option value='BrainMaskVol'>BrainMaskVol</option><option value='BrainSegNVox'>BrainSegNVox</option><option value='BrainSegVol'>BrainSegVol</option><option value='BrainSegVolNotVent'>BrainSegVolNotVent</option><option value='ColorTable'>ColorTable</option><option value='ColorTableTimeStamp'>ColorTableTimeStamp</option><option value='CortexVol'>CortexVol</option><option value='CorticalWhiteMatterVol'>CorticalWhiteMatterVol</option><option value='CreationTime'>CreationTime</option><option value='CurvInd'>CurvInd</option><option value='ExcludeSegId'>ExcludeSegId</option><option value='Excluding'>Excluding</option><option value='FoldInd'>FoldInd</option><option value='GausCurv'>GausCurv</option><option value='GrayVol'>GrayVol</option><option value='ICV'>ICV</option><option value='InVolFile'>InVolFile</option><option value='InVolFileTimeStamp'>InVolFileTimeStamp</option><option value='InVolFrame'>InVolFrame</option><option value='Index'>Index</option><option value='MeanCurv'>MeanCurv</option><option value='MeanThickness'>MeanThickness</option><option value='NRows'>NRows</option><option value='NTableCols'>NTableCols</option><option value='NVoxels'>NVoxels</option><option value='NumVert'>NumVert</option><option value='Only'>Only</option><option value='PVVolFile'>PVVolFile</option><option value='PVVolFileTimeStamp'>PVVolFileTimeStamp</option><option value='SUBJECTS_DIR'>SUBJECTS_DIR</option><option value='SegId'>SegId</option><option value='SegVolFile'>SegVolFile</option><option value='SegVolFileTimeStamp'>SegVolFileTimeStamp</option><option value='SubCortGrayVol'>SubCortGrayVol</option><option value='SupraTentorialVol'>SupraTentorialVol</option><option value='SurfArea'>SurfArea</option><option value='Table'>Table</option><option value='ThickAvg'>ThickAvg</option><option value='ThickStd'>ThickStd</option><option value='Title'>Title</option><option value='TotalGrayVol'>TotalGrayVol</option><option value='Volume_mm3'>Volume_mm3</option><option value='VoxelVolume_mm3'>VoxelVolume_mm3</option><option value='WhiteSurfArea'>WhiteSurfArea</option><option value='a2009s'>a2009s</option><option value='anatomy_type'>anatomy_type</option><option value='aparc'>aparc</option><option value='aseg'>aseg</option><option value='cmdline'>cmdline</option><option value='cvs_version'>cvs_version</option><option value='desikan_killiany'>desikan_killiany</option><option value='directory'>directory</option><option value='exvivo'>exvivo</option><option value='generating_program'>generating_program</option><option value='hemi'>hemi</option><option value='hostname'>hostname</option><option value='label'>label</option><option value='lhCortexVol'>lhCortexVol</option><option value='lhCorticalWhiteMatterVol'>lhCorticalWhiteMatterVol</option><option value='machine'>machine</option><option value='mri'>mri</option><option value='mrisurf.c-cvs_version'>mrisurf.c-cvs_version</option><option value='normMax'>normMax</option><option value='normMean'>normMean</option><option value='normMin'>normMin</option><option value='normRange'>normRange</option><option value='normStdDev'>normStdDev</option><option value='orig'>orig</option><option value='rhCortexVol'>rhCortexVol</option><option value='rhCorticalWhiteMatterVol'>rhCorticalWhiteMatterVol</option><option value='scripts'>scripts</option><option value='stat_header'>stat_header</option><option value='stat_measures'>stat_measures</option><option value='statistics'>statistics</option><option value='stats'>stats</option><option value='subjectname'>subjectname</option><option value='surf'>surf</option><option value='sysname'>sysname</option><option value='touch'>touch</option><option value='transforms'>transforms</option><option value='user'>user</option></select></div>\");\n",
        "                element.append(otherstring);\n",
        "\n",
        "                "
       ],
       "output_type": "display_data",
       "text": [
        "<IPython.core.display.Javascript at 0x110c50050>"
       ]
      },
      {
       "javascript": [
        "\n",
        "        var kernel = IPython.notebook.kernel;\n",
        "        $(\"#Concepts\").change(function(e){\n",
        "            console.log($(\"#Concepts\").val());\n",
        "            kernel.execute(\"selected_concepts=\" + JSON.stringify($(\"#Concepts\").val()))\n",
        "\n",
        "        });\n",
        "        "
       ],
       "output_type": "display_data",
       "text": [
        "<IPython.core.display.Javascript at 0x110d38050>"
       ]
      }
     ],
     "prompt_number": 240
    },
    {
     "cell_type": "code",
     "collapsed": false,
     "input": [
      "display(Javascript(util.getJSbuilder(selected_concepts)))"
     ],
     "language": "python",
     "metadata": {},
     "outputs": [
      {
       "javascript": [
        "\n",
        "            container.show();\n",
        "\n",
        "            var kernel = IPython.notebook.kernel;\n",
        "            console.log('hahah');\n",
        "            var otherstring = $(\"<div>GrayVol <input type='text' name='GrayVol'/><input type='checkbox' name='check-GrayVol' value='check-GrayVol'><br></div>\");\n",
        "            element.append(otherstring);\n",
        "\n",
        "        "
       ],
       "output_type": "display_data",
       "text": [
        "<IPython.core.display.Javascript at 0x110cc3790>"
       ]
      }
     ],
     "prompt_number": 242
    },
    {
     "cell_type": "code",
     "collapsed": false,
     "input": [
      "selected_predicates = []\n",
      "display(Javascript(util.getJSforPredicates(availablePredicates)))\n",
      "display(Javascript(util.getJScallback('selected_predicates', 'Predicates')))"
     ],
     "language": "python",
     "metadata": {},
     "outputs": [
      {
       "javascript": [
        "\n",
        "                container.show();\n",
        "                var kernel = IPython.notebook.kernel;\n",
        "                var otherstring = $(\"<div><h2>Predicates</h2><select size=10 style='width:400px;' id='Predicates' multiple='multiple'><option value='description'>description</option><option value='hemisphere'>hemisphere</option><option value='relative_location'>relative_location</option><option value='structure'>structure</option><option value='subject_id'>subject_id</option><option value='units'>units</option><option value='value'>value</option></select></div>\");\n",
        "                element.append(otherstring);\n",
        "\n",
        "                "
       ],
       "output_type": "display_data",
       "text": [
        "<IPython.core.display.Javascript at 0x110d38050>"
       ]
      },
      {
       "javascript": [
        "\n",
        "        var kernel = IPython.notebook.kernel;\n",
        "        $(\"#Predicates\").change(function(e){\n",
        "            console.log($(\"#Predicates\").val());\n",
        "            kernel.execute(\"selected_predicates=\" + JSON.stringify($(\"#Predicates\").val()))\n",
        "\n",
        "        });\n",
        "        "
       ],
       "output_type": "display_data",
       "text": [
        "<IPython.core.display.Javascript at 0x110d38090>"
       ]
      }
     ],
     "prompt_number": 244
    },
    {
     "cell_type": "code",
     "collapsed": false,
     "input": [
      "display(Javascript(util.getJSbuilder(selected_predicates)))"
     ],
     "language": "python",
     "metadata": {},
     "outputs": [
      {
       "javascript": [
        "\n",
        "            container.show();\n",
        "\n",
        "            var kernel = IPython.notebook.kernel;\n",
        "            console.log('hahah');\n",
        "            var otherstring = $(\"<div>structure <input type='text' name='structure'/><input type='checkbox' name='check-structure' value='check-structure'><br>value <input type='text' name='value'/><input type='checkbox' name='check-value' value='check-value'><br></div>\");\n",
        "            element.append(otherstring);\n",
        "\n",
        "        "
       ],
       "output_type": "display_data",
       "text": [
        "<IPython.core.display.Javascript at 0x110c9cfd0>"
       ]
      }
     ],
     "prompt_number": 247
    },
    {
     "cell_type": "code",
     "collapsed": false,
     "input": [
      "\n",
      "select distinct $id $structure $volume $hemi \n",
      "    \n",
      "            where {\n",
      "                   \n",
      "               \n",
      "                ?c1 nidm:annotation \"adhd200\"^^xsd:string . # coments \n",
      "                ?c1 fs:subject_id ?id .\n",
      "                ?c1 prov:hadMember ?f .\n",
      "                \n",
      "                ?f fs:hemisphere ?hemi .\n",
      "                \n",
      "                ?c prov:wasDerivedFrom ?f .\n",
      "                ?c prov:hadMember ?s .\n",
      "                \n",
      "                ?s a fs:GrayVol .\n",
      "                ?s fs:structure ?structure .\n",
      "                ?s fs:value ?volume .\n",
      "                \n",
      "                FILTER regex(str(?structure), \"%s\")\n",
      "        \n",
      "            }"
     ],
     "language": "python",
     "metadata": {},
     "outputs": []
    },
    {
     "cell_type": "raw",
     "metadata": {},
     "source": [
      "construct { <http://seekda.com/providers/cdyne.com/PhoneNotify> ?p ?o }\n",
      "from <http://localhost:8890/DAV/ranking> \n",
      "where {\n",
      "  { <http://seekda.com/providers/cdyne.com/PhoneNotify> so:hasEndpoint ?s.\n",
      "    ?s ?p ?o }\n",
      "  union\n",
      "  { <http://seekda.com/providers/cdyne.com/PhoneNotify> ?p ?o }\n",
      "}"
     ]
    },
    {
     "cell_type": "code",
     "collapsed": false,
     "input": [],
     "language": "python",
     "metadata": {},
     "outputs": []
    }
   ],
   "metadata": {}
  }
 ]
}